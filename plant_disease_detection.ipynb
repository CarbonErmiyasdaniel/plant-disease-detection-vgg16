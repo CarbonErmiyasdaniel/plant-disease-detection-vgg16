{
  "cells": [
    {
      "cell_type": "markdown",
      "metadata": {
        "id": "view-in-github",
        "colab_type": "text"
      },
      "source": [
        "<a href=\"https://colab.research.google.com/github/CarbonErmiyasdaniel/plant-disease-detection-vgg16/blob/main/plant_disease_detection.ipynb\" target=\"_parent\"><img src=\"https://colab.research.google.com/assets/colab-badge.svg\" alt=\"Open In Colab\"/></a>"
      ]
    },
    {
      "cell_type": "code",
      "source": [
        "# Install dependencies\n",
        "!pip install tensorflow gradio -q\n",
        "\n",
        "import tensorflow as tf\n",
        "import numpy as np\n",
        "import matplotlib.pyplot as plt\n",
        "import gradio as gr\n",
        "from tensorflow.keras.preprocessing import image_dataset_from_directory\n",
        "from tensorflow.keras.applications import VGG16\n",
        "from tensorflow.keras import layers, models\n",
        "from sklearn.metrics import classification_report, confusion_matrix\n"
      ],
      "metadata": {
        "id": "elVN4xAyxJek"
      },
      "execution_count": null,
      "outputs": []
    },
    {
      "cell_type": "code",
      "source": [
        "import tensorflow_datasets as tfds\n",
        "\n",
        "# Load the beans dataset\n",
        "(train_ds, val_ds, test_ds), info = tfds.load(\n",
        "    \"beans\",\n",
        "    split=['train', 'validation', 'test'],\n",
        "    as_supervised=True,\n",
        "    with_info=True\n",
        ")\n",
        "\n",
        "print(\"Classes:\", info.features['label'].names)\n",
        "print(\"Training samples:\", info.splits['train'].num_examples)\n"
      ],
      "metadata": {
        "id": "IO4e4XQkxTIc"
      },
      "execution_count": null,
      "outputs": []
    },
    {
      "cell_type": "code",
      "source": [
        "IMG_SIZE = (224, 224)\n",
        "BATCH_SIZE = 32\n",
        "\n",
        "def format_image(image, label):\n",
        "    image = tf.image.resize(image, IMG_SIZE)\n",
        "    image = image / 255.0  # normalize\n",
        "    return image, label\n",
        "\n",
        "train_ds = train_ds.map(format_image).batch(BATCH_SIZE).shuffle(1000)\n",
        "val_ds = val_ds.map(format_image).batch(BATCH_SIZE)\n",
        "test_ds = test_ds.map(format_image).batch(BATCH_SIZE)\n"
      ],
      "metadata": {
        "id": "QaWXVVXUx0jP"
      },
      "execution_count": null,
      "outputs": []
    },
    {
      "cell_type": "code",
      "source": [
        "base_model = VGG16(weights='imagenet', include_top=False, input_shape=(224, 224, 3))\n",
        "\n",
        "# Freeze the convolutional base\n",
        "for layer in base_model.layers:\n",
        "    layer.trainable = False\n",
        "\n",
        "# Add custom layers on top\n",
        "model = models.Sequential([\n",
        "    base_model,\n",
        "    layers.Flatten(),\n",
        "    layers.Dense(256, activation='relu'),\n",
        "    layers.Dropout(0.5),\n",
        "    layers.Dense(3, activation='softmax')  # 3 classes\n",
        "])\n",
        "\n",
        "model.compile(optimizer='adam',\n",
        "              loss='sparse_categorical_crossentropy',\n",
        "              metrics=['accuracy'])\n",
        "\n",
        "model.summary()\n"
      ],
      "metadata": {
        "id": "LePd5HAvx5un"
      },
      "execution_count": null,
      "outputs": []
    },
    {
      "cell_type": "code",
      "source": [
        "history = model.fit(\n",
        "    train_ds,\n",
        "    validation_data=val_ds,\n",
        "    epochs=10\n",
        ")\n"
      ],
      "metadata": {
        "id": "lUTOUUPuyD9g"
      },
      "execution_count": null,
      "outputs": []
    },
    {
      "cell_type": "code",
      "source": [
        "acc = history.history['accuracy']\n",
        "val_acc = history.history['val_accuracy']\n",
        "loss = history.history['loss']\n",
        "val_loss = history.history['val_loss']\n",
        "\n",
        "plt.figure(figsize=(12, 5))\n",
        "plt.subplot(1, 2, 1)\n",
        "plt.plot(acc, label='Train Acc')\n",
        "plt.plot(val_acc, label='Val Acc')\n",
        "plt.legend()\n",
        "plt.title('Accuracy')\n",
        "\n",
        "plt.subplot(1, 2, 2)\n",
        "plt.plot(loss, label='Train Loss')\n",
        "plt.plot(val_loss, label='Val Loss')\n",
        "plt.legend()\n",
        "plt.title('Loss')\n",
        "\n",
        "plt.show()\n"
      ],
      "metadata": {
        "id": "kGx9jGFNyoXr"
      },
      "execution_count": null,
      "outputs": []
    },
    {
      "cell_type": "code",
      "source": [
        "y_true = []\n",
        "y_pred = []\n",
        "\n",
        "for images, labels in test_ds:\n",
        "    preds = model.predict(images)\n",
        "    y_true.extend(labels.numpy())\n",
        "    y_pred.extend(np.argmax(preds, axis=1))\n",
        "\n",
        "print(classification_report(y_true, y_pred, target_names=info.features['label'].names))\n"
      ],
      "metadata": {
        "id": "xsbDMRzdyy0H"
      },
      "execution_count": null,
      "outputs": []
    },
    {
      "cell_type": "code",
      "source": [
        "model.save(\"plant_disease_vgg16.h5\")\n",
        "print(\"✅ Model saved as plant_disease_vgg16.h5\")\n"
      ],
      "metadata": {
        "id": "fjHJxEQizCt4"
      },
      "execution_count": null,
      "outputs": []
    },
    {
      "cell_type": "code",
      "source": [
        "import tensorflow as tf\n",
        "import numpy as np\n",
        "import gradio as gr\n",
        "\n",
        "# Reload model if needed\n",
        "model = tf.keras.models.load_model(\"plant_disease_vgg16.h5\")  # Or skip if already in memory\n",
        "\n",
        "# Define constants\n",
        "IMG_SIZE = (224, 224)\n",
        "class_names = ['angular_leaf_spot', 'bean_rust', 'healthy']\n",
        "\n",
        "# Descriptions for better output\n",
        "descriptions = {\n",
        "    \"angular_leaf_spot\": \"Angular Leaf Spot: This is a fungal disease. The leaves have brown spots with yellow edges. It often happens in humid conditions. Recommended action: Improve air circulation and consider fungicide treatment.\",\n",
        "    \"bean_rust\": \"Bean Rust: This is a fungal infection that shows orange or rust-colored spots on the leaves. It reduces the plant's ability to make food. Recommended action: Remove infected leaves and apply fungicides.\",\n",
        "    \"healthy\": \"Healthy Leaf: The leaf looks good with no signs of disease. Keep up the good care!\"\n",
        "}\n",
        "\n",
        "def predict_bean(image):\n",
        "    try:\n",
        "        # Ensure image is valid\n",
        "        if image is None:\n",
        "            return \"No image uploaded.\", \"\", \"\"\n",
        "\n",
        "        img = tf.image.resize(image, IMG_SIZE)\n",
        "        img = tf.expand_dims(img, 0) / 255.0\n",
        "        pred = model.predict(img)\n",
        "        result = class_names[np.argmax(pred)]\n",
        "        confidence = float(np.max(pred))\n",
        "        description = descriptions[result]\n",
        "        return result, f\"{confidence*100:.2f}%\", description\n",
        "    except Exception as e:\n",
        "        return \"Error\", \"Error\", str(e)\n",
        "\n",
        "demo = gr.Interface(\n",
        "    fn=predict_bean,\n",
        "    inputs=gr.Image(type=\"numpy\", label=\"Upload a bean leaf image\"),\n",
        "    outputs=[\n",
        "        gr.Textbox(label=\"Prediction\"),\n",
        "        gr.Textbox(label=\"Confidence\"),\n",
        "        gr.Textbox(label=\"Description\")\n",
        "    ],\n",
        "    title=\"🌿 Bean Disease Detection (VGG16 Transfer Learning)\",\n",
        "    description=\"Upload a bean leaf image to detect if it's healthy or diseased. The system identifies Angular Leaf Spot, Bean Rust, or Healthy leaves.\"\n",
        ")\n",
        "\n",
        "demo.launch()\n",
        "\n",
        "\n",
        "\n"
      ],
      "metadata": {
        "id": "cPzEzCNmzP7D"
      },
      "execution_count": null,
      "outputs": []
    },
    {
      "cell_type": "code",
      "source": [
        "print(\"✅ Project Summary\")\n",
        "print(\"----------------------------\")\n",
        "print(\"Model: VGG16 Transfer Learning\")\n",
        "print(\"Dataset: TensorFlow Beans (3 classes)\")\n",
        "print(\"Performance Metric: Accuracy, F1-score\")\n",
        "print(\"Demo: Gradio Web Interface\")\n",
        "print(\"Training completed successfully!\")\n"
      ],
      "metadata": {
        "id": "Nn3DX-QYzjLy"
      },
      "execution_count": null,
      "outputs": []
    }
  ],
  "metadata": {
    "colab": {
      "name": "Welcome To Colab",
      "toc_visible": true,
      "provenance": [],
      "gpuType": "T4",
      "include_colab_link": true
    },
    "kernelspec": {
      "display_name": "Python 3",
      "name": "python3"
    },
    "accelerator": "GPU"
  },
  "nbformat": 4,
  "nbformat_minor": 0
}